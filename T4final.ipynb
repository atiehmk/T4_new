{
 "cells": [
  {
   "cell_type": "code",
   "execution_count": 7,
   "id": "fbac82c4",
   "metadata": {
    "scrolled": true
   },
   "outputs": [],
   "source": [
    "#!jupyter nbextension enable --py widgetsnbextension --sys-prefix\n",
    "#!jupyter serverextension enable voila --sys-prefix"
   ]
  },
  {
   "cell_type": "code",
   "execution_count": 2,
   "id": "f50af66e",
   "metadata": {},
   "outputs": [],
   "source": [
    "import numpy as np\n",
    "import matplotlib\n",
    "import cv2 as cv\n",
    "from IPython.display import Image\n",
    "from matplotlib import pyplot as plt"
   ]
  },
  {
   "cell_type": "code",
   "execution_count": 3,
   "id": "532b81ed",
   "metadata": {},
   "outputs": [
    {
     "data": {
      "application/vnd.jupyter.widget-view+json": {
       "model_id": "553b843dfed44b268aff19e6d96011ea",
       "version_major": 2,
       "version_minor": 0
      },
      "text/plain": [
       "FileUpload(value={}, description='Upload')"
      ]
     },
     "metadata": {},
     "output_type": "display_data"
    }
   ],
   "source": [
    "from ipywidgets import *\n",
    "from IPython.display import clear_output, display\n",
    "import ipywidgets as widgets\n",
    "widgets.IntSlider()\n",
    "from IPython.display import display\n",
    "\n",
    "w = widgets.IntSlider()\n",
    "uploader = widgets.FileUpload(\n",
    "  \n",
    "    multiple=False  \n",
    ")\n",
    "\n",
    "display(uploader) "
   ]
  },
  {
   "cell_type": "code",
   "execution_count": 4,
   "id": "7eb0480d",
   "metadata": {},
   "outputs": [
    {
     "data": {
      "application/vnd.jupyter.widget-view+json": {
       "model_id": "0768ebe62468414e9eec902b1dd7b698",
       "version_major": 2,
       "version_minor": 0
      },
      "text/plain": [
       "Button(description='Display Image', style=ButtonStyle())"
      ]
     },
     "metadata": {},
     "output_type": "display_data"
    },
    {
     "data": {
      "application/vnd.jupyter.widget-view+json": {
       "model_id": "fe4fcd1dd98f42be8130f4886dc8aecb",
       "version_major": 2,
       "version_minor": 0
      },
      "text/plain": [
       "Output()"
      ]
     },
     "metadata": {},
     "output_type": "display_data"
    }
   ],
   "source": [
    "import io\n",
    "from PIL import Image\n",
    "\n",
    "\n",
    "output = widgets.Output()\n",
    "\n",
    "@output.capture(clear_output=True,wait=True) \n",
    "def DisplatEnhanceImage(b):\n",
    "    \n",
    "\n",
    "    if uploader.value:\n",
    "\n",
    "        uploaded_file = next(iter(uploader.value))\n",
    "        content = uploader.value[uploaded_file]['content']\n",
    "        img_name=\"\"\n",
    "     \n",
    "        for name, file_info in uploader.value.items():\n",
    "            img = Image.open(io.BytesIO(file_info['content']))\n",
    "            img_name = name\n",
    "            with open(name, 'wb') as fp:\n",
    "                fp.write(file_info['content'])\n",
    "\n",
    "            choosen_img = './' + img_name\n",
    "\n",
    "            Image.open(choosen_img)\n",
    "\n",
    "            img = cv.imread(choosen_img,0)\n",
    "            hist,bins = np.histogram(img.flatten(),256,[0,256])\n",
    "            cdf = hist.cumsum()\n",
    "            cdf_normalized = cdf * float(hist.max()) / cdf.max()\n",
    "            plt.plot(cdf_normalized, color = 'b')\n",
    "            plt.hist(img.flatten(),256,[0,256], color = 'r')\n",
    "            plt.xlim([0,256])\n",
    "            plt.legend(('cdf','histogram'), loc = 'upper left')\n",
    "            plt.show()\n",
    "\n",
    "\n",
    "            equ = cv.equalizeHist(img)\n",
    "            res = np.hstack((img,equ)) #stacking images side-by-side\n",
    "            cv.imwrite('enhancedImage.png',res)\n",
    "            img = cv.imread('enhancedImage.png',0)\n",
    "            plt.imshow(cv.cvtColor(img, cv.COLOR_BGR2RGB))\n",
    "            plt.gca().axes.get_xaxis().set_visible(False)\n",
    "            plt.gca().axes.get_yaxis().set_visible(False)\n",
    "            plt.show()\n",
    "    \n",
    "    else:\n",
    "            \n",
    "\n",
    "\n",
    "           # choosen_img = './a2.jpg' \n",
    "          print(\"Please select an image!\")\n",
    "     \n",
    "    \n",
    "\n",
    "\n",
    "run_button = widgets.Button(\n",
    "      description = 'Display Image'\n",
    ")\n",
    "run_button.on_click(DisplatEnhanceImage)\n",
    "display(run_button)\n",
    "output\n",
    "\n",
    "\n",
    "\n",
    "\n"
   ]
  },
  {
   "cell_type": "code",
   "execution_count": 5,
   "id": "ae45c651",
   "metadata": {},
   "outputs": [],
   "source": [
    "#pip freeze > requirements.txt\n"
   ]
  },
  {
   "cell_type": "code",
   "execution_count": null,
   "id": "2b2c59d0",
   "metadata": {},
   "outputs": [],
   "source": []
  }
 ],
 "metadata": {
  "kernelspec": {
   "display_name": "Python 3 (ipykernel)",
   "language": "python",
   "name": "python3"
  },
  "language_info": {
   "codemirror_mode": {
    "name": "ipython",
    "version": 3
   },
   "file_extension": ".py",
   "mimetype": "text/x-python",
   "name": "python",
   "nbconvert_exporter": "python",
   "pygments_lexer": "ipython3",
   "version": "3.10.0"
  }
 },
 "nbformat": 4,
 "nbformat_minor": 5
}
